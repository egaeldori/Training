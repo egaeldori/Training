{
 "cells": [
  {
   "cell_type": "markdown",
   "metadata": {},
   "source": [
    "# 1 Conditional\n",
    "Menggunakan IF, ELSE, ELIF"
   ]
  },
  {
   "cell_type": "markdown",
   "metadata": {},
   "source": [
    "### 1. A Formula IF"
   ]
  },
  {
   "cell_type": "code",
   "execution_count": 1,
   "metadata": {},
   "outputs": [],
   "source": [
    "# Forluma Dasar IF #\n",
    "\"\"\"\n",
    "IF <expr>:           # <expr> disini sebagai persyaratannya atau kondisi tertentu\n",
    "    <statement>      # <statement> disini sebagai apa yang harus dilakukan jika pernyatannya benar / TRUE\n",
    "\"\"\"\n",
    "\n",
    "x = 5\n",
    "y = 3\n",
    "\n",
    "if x > y :\n",
    "    print(\"Benar\")\n",
    "    \n",
    "if (x * y) != (x ** y):\n",
    "    print(\"Benar\")"
   ]
  },
  {
   "cell_type": "code",
   "execution_count": 2,
   "metadata": {},
   "outputs": [],
   "source": [
    "# Contoh Kombinasi IF dengan LIST # Untuk LATIHAN #\n",
    "# Diketahui #\n",
    "\n",
    "x = [5, 7.5, 12]  # Panjang masing\" parameter\n",
    "y = 10            # Lebar\n",
    "z = 8             # Jari-jari\n",
    "pi = 3.14         # pi 3.14 atau 22/7 dll\n",
    "\n",
    "areas_circle = pi * (z**2)      # Hasilnya 200.96\n",
    "areas_rectangle1 = x [0] * y    # Hasilnya 50\n",
    "areas_rectangle2 = x [1] * y    # Hasilnya 75.0\n",
    "areas_rectangle3 = x [-1] * y   # Hasilnya 120\n",
    "\n",
    "if areas_circle < areas_rectangle1:                             # Karena pernyataan salah maka tidak lanjut\n",
    "    print(\"Lingkaran Lebih Kecil\")\n",
    "    print(\"Selisih keduanya\", (areas_circle - areas_rectangle1))\n",
    "\n",
    "if areas_circle > areas_rectangle1:                             # Kalau pernyataan betol keluar\n",
    "    print(\"Lingkaran Lebih Besar\")\n",
    "    print(\"Selisih keduanya\", (areas_circle - areas_rectangle1))\n",
    "    \n",
    "\"\"\"\n",
    "IF <expr>:             Bisa juga dibuat lebih dari 1 statement dan final statement yang penting hirarki OK\n",
    "    <statement>\n",
    "    <statement>\n",
    "    <statement>\n",
    "<following statement>\n",
    "\"\"\"\n"
   ]
  },
  {
   "cell_type": "markdown",
   "metadata": {},
   "source": [
    "### 1. B Formula ELSE"
   ]
  },
  {
   "cell_type": "code",
   "execution_count": 3,
   "metadata": {},
   "outputs": [],
   "source": [
    "# Formula Dasar IF ELSE # Jika di IF Kondisi True saja yang diproses maka kondisi False bisa pakai ELSE #\n",
    "# Sederhananya kalau ELSE melaksanakan perintah saat kondisi IF False # \n",
    "\"\"\"\n",
    "IF <expr>:\n",
    "    <statement(s)>     # Bisa juga multiple statement\n",
    "ELSE:\n",
    "    <statement(s)>     # Bisa juga multiple statement\n",
    "\"\"\"\n",
    "\n",
    "# Diketahui #\n",
    "\n",
    "x = [5, 7.5, 12]  # Panjang masing\" parameter\n",
    "y = 10            # Lebar\n",
    "z = 8             # Jari-jari\n",
    "pi = 3.14         # pi 3.14 atau 22/7 dll\n",
    "\n",
    "areas_circle = pi * (z**2)      # Hasilnya 200.96\n",
    "areas_rectangle1 = x [0] * y    # Hasilnya 50\n",
    "areas_rectangle2 = x [1] * y    # Hasilnya 75.0\n",
    "areas_rectangle3 = x [-1] * y   # Hasilnya 120\n",
    "\n",
    "if areas_circle < areas_rectangle1:                             # Pernyataan salah maka pindah ke ELSE\n",
    "    print(\"Lingkaran lebih kecil\")\n",
    "    print(\"Selisih keduanya\", (areas_circle - areas_rectangle1))\n",
    "else:\n",
    "    print(\"Lingkaran lebih Besar Loh\")\n",
    "    print(\"Selisih keduanya\", (areas_circle - areas_rectangle1))"
   ]
  },
  {
   "cell_type": "code",
   "execution_count": 4,
   "metadata": {},
   "outputs": [],
   "source": [
    "if areas_circle > areas_rectangle1:                             # Pernyataan benar maka tidak pindah ke ELSE\n",
    "    print(\"Lingkaran lebih Besar\")\n",
    "    print(\"Selisih keduanya\", (areas_circle - areas_rectangle1))\n",
    "else:\n",
    "    print(\"Lingkaran lebih Kecil\")\n",
    "    print(\"Selisih keduanya\", (areas_circle - areas_rectangle1))"
   ]
  },
  {
   "cell_type": "markdown",
   "metadata": {},
   "source": [
    "### 1. C Formula ELIF"
   ]
  },
  {
   "cell_type": "code",
   "execution_count": 5,
   "metadata": {},
   "outputs": [
    {
     "name": "stdout",
     "output_type": "stream",
     "text": [
      "Statement_4 Circle_More_Bigger_Than_All_Rectangle\n"
     ]
    }
   ],
   "source": [
    "# FORMULA DASAR # ELIF ini untuk membuat beberapa kondisi, kalau di excel multiple IF #\n",
    "\"\"\"\n",
    "IF   <expr>:\n",
    "     <statement>\n",
    "     <statement>\n",
    "ELIF <expr>:\n",
    "     <statement>\n",
    "     <statement>\n",
    "ELSE <expr>:\n",
    "     <statement>\n",
    "     <statement>\n",
    "\"\"\"\n",
    "\n",
    "# Diketahui #\n",
    "\n",
    "x = [5, 7.5, 12]  # Panjang masing\" parameter\n",
    "y = 10            # Lebar\n",
    "z = 8             # Jari-jari\n",
    "pi = 3.14         # pi 3.14 atau 22/7 dll\n",
    "\n",
    "areas_circle = pi * (z**2)      # Hasilnya 200.96\n",
    "areas_rectangle1 = x [0] * y    # Hasilnya 50\n",
    "areas_rectangle2 = x [1] * y    # Hasilnya 75.0\n",
    "areas_rectangle3 = x [-1] * y   # Hasilnya 120\n",
    "\n",
    "if areas_circle < areas_rectangle1:\n",
    "    print(\"Statement_1 Hasil selisihnya\", areas_circle - areas_rectangle1)\n",
    "elif areas_circle < areas_rectangle2:\n",
    "    print(\"Statement_2 Hasil selisihnya\", areas_circle - areas_rectangle2)\n",
    "elif areas_circle < areas_rectangle3:\n",
    "    print(\"Statement_3 Hasil selisihnya\", areas_circle - areas_rectangle3)\n",
    "else:\n",
    "    print(\"Statement_4 Circle_More_Bigger_Than_All_Rectangle\")"
   ]
  },
  {
   "cell_type": "code",
   "execution_count": 6,
   "metadata": {},
   "outputs": [
    {
     "name": "stdout",
     "output_type": "stream",
     "text": [
      "Ketikan temperatur yang dingin dikonversi, eg. 45F, 28C, 30R: 100C\n",
      "Temperatur adalah 212 F & 80 R\n"
     ]
    }
   ],
   "source": [
    "# LATIHAN CONDITIONAL #\n",
    "\n",
    "temp   = input(\"Ketikan temperatur yang dingin dikonversi, eg. 45F, 28C, 30R: \")\n",
    "degree = int(temp[:-1])   # Ambil karakter yang diketikan pada menu input tapi yang terakhir jangan\n",
    "i_convertion = temp[-1]   # Ambil karakter terkahirnya saja\n",
    "\n",
    "\n",
    "if i_convertion == \"C\" :\n",
    "    result1 = int(round((9 * degree) / 5) + 32)\n",
    "    result2 = int(round((4/5) * degree))\n",
    "    uom1    = \"F\"\n",
    "    uom2    = \"R\"\n",
    "    \n",
    "elif i_convertion == \"F\" :\n",
    "    result1 = int(round(((degree - 32) * 5) / 9))\n",
    "    result2 = int(round((4/9) * (degree - 32)))\n",
    "    uom1    = \"C\"\n",
    "    uom2    = \"R\"\n",
    "\n",
    "elif i_convertion == \"R\" :\n",
    "    result1 = int(round((5/4) * degree))\n",
    "    result2 = int(round(((9/4) * degree) + 32))\n",
    "    uom1    = \"C\"\n",
    "    uom2    = \"F\"\n",
    "                  \n",
    "else :\n",
    "    print(\"Masukan input yang benar\")\n",
    "                  \n",
    "print (\"Temperatur adalah\", result1, uom1, \"&\", result2, uom2)"
   ]
  },
  {
   "cell_type": "markdown",
   "metadata": {},
   "source": [
    "# 2 LOOPING / ITERATION\n",
    "Menggunakan While, For , Break, Continue (Menjalankan Syntax berulang)"
   ]
  },
  {
   "cell_type": "markdown",
   "metadata": {},
   "source": [
    "### 2. A WHILE"
   ]
  },
  {
   "cell_type": "code",
   "execution_count": 7,
   "metadata": {},
   "outputs": [
    {
     "name": "stdout",
     "output_type": "stream",
     "text": [
      "Area of Rectangle 1 45\n",
      "Area of Rectangle 2 40\n",
      "Area of Rectangle 3 35\n",
      "Area of Rectangle 4 30\n",
      "Area of Rectangle 5 25\n",
      "Area of Rectangle 6 20\n",
      "Area of Rectangle 7 15\n",
      "Area of Rectangle 8 10\n",
      "Area of Rectangle 9 5\n",
      "Area of Rectangle 10 0\n"
     ]
    }
   ],
   "source": [
    "# Dasar Formula WHILE #\n",
    "\"\"\"\n",
    "while <expr>:\n",
    "      <statement>\n",
    "      <statement>\n",
    "\"\"\"\n",
    "\n",
    "x = 10\n",
    "y = 5\n",
    "n = 0\n",
    "\n",
    "while x > 0:\n",
    "    x -= 1\n",
    "    n += 1\n",
    "    print(\"Area of Rectangle\", n, (x * y))"
   ]
  },
  {
   "cell_type": "markdown",
   "metadata": {},
   "source": [
    "### 2. B WHILE BREAK"
   ]
  },
  {
   "cell_type": "code",
   "execution_count": 8,
   "metadata": {},
   "outputs": [
    {
     "name": "stdout",
     "output_type": "stream",
     "text": [
      "4\n",
      "3\n",
      "Loop Ended\n"
     ]
    }
   ],
   "source": [
    "# WHILE dan BREAK# BREAK = STOP LOOPING pada syarat tertentu\n",
    "\n",
    "x = 5\n",
    "while x > 0:\n",
    "    x -= 1\n",
    "    if x == 2:\n",
    "        break      # Perintah x - 1 sampai pada angka 2 di stop\n",
    "    print(x)\n",
    "print(\"Loop Ended\")"
   ]
  },
  {
   "cell_type": "markdown",
   "metadata": {},
   "source": [
    "### 2. C WHILE CONTINUE"
   ]
  },
  {
   "cell_type": "code",
   "execution_count": 9,
   "metadata": {},
   "outputs": [
    {
     "name": "stdout",
     "output_type": "stream",
     "text": [
      "4\n",
      "3\n",
      "1\n",
      "0\n",
      "Loop Ended\n"
     ]
    }
   ],
   "source": [
    "# WHILE dan CONTINUE # CONTINUE = Skip Looping pada syarat tertentu dan masih terus lanjut looping\n",
    "\n",
    "x = 5\n",
    "while x > 0:\n",
    "    x -= 1\n",
    "    if x == 2:\n",
    "        continue     # Perintah x - 1 sampai pada angka 2 di skip, lanjut ke angka 1 (angka 2 hilang)\n",
    "    print(x)\n",
    "print(\"Loop Ended\")"
   ]
  },
  {
   "cell_type": "markdown",
   "metadata": {},
   "source": [
    "### 2. D FOR"
   ]
  },
  {
   "cell_type": "code",
   "execution_count": 10,
   "metadata": {},
   "outputs": [
    {
     "name": "stdout",
     "output_type": "stream",
     "text": [
      "foo\n",
      "bar\n",
      "baz\n"
     ]
    }
   ],
   "source": [
    "# CONTOH FOR ,IF, CONTINUE, BREAK, ELSE # Kalau mau pakai CONTINUE atau BREAK harus pakai IF\n",
    "\n",
    "# FORMAT FOR #\n",
    "\"\"\"\n",
    "for <var> is <iterable>:\n",
    "    <statement>\n",
    "\"\"\"\n",
    "\n",
    "a = [\"foo\", \"bar\", \"baz\"]\n",
    "\n",
    "for i in a:\n",
    "    print(i)"
   ]
  },
  {
   "cell_type": "code",
   "execution_count": 12,
   "metadata": {},
   "outputs": [
    {
     "name": "stdout",
     "output_type": "stream",
     "text": [
      "foo\n",
      "bar\n",
      "baz\n",
      "1\n",
      "2\n",
      "3\n"
     ]
    }
   ],
   "source": [
    "d = {\"foo\" : 1, \"bar\" : 2, \"baz\" : 3} # menjelaskan nilai dari kurung kurawal\n",
    "\n",
    "for k in d:\n",
    "    print(k)\n",
    "    \n",
    "for k in d.values():  # Mengambil nilainya saja bisa juga kek gini\n",
    "    print(k)"
   ]
  },
  {
   "cell_type": "code",
   "execution_count": null,
   "metadata": {},
   "outputs": [],
   "source": []
  }
 ],
 "metadata": {
  "kernelspec": {
   "display_name": "Python 3",
   "language": "python",
   "name": "python3"
  },
  "language_info": {
   "codemirror_mode": {
    "name": "ipython",
    "version": 3
   },
   "file_extension": ".py",
   "mimetype": "text/x-python",
   "name": "python",
   "nbconvert_exporter": "python",
   "pygments_lexer": "ipython3",
   "version": "3.7.6"
  }
 },
 "nbformat": 4,
 "nbformat_minor": 4
}
