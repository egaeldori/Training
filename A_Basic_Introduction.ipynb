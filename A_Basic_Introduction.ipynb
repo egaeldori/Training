{
 "cells": [
  {
   "cell_type": "markdown",
   "metadata": {},
   "source": [
    "# 1 Tipe Bahasa"
   ]
  },
  {
   "cell_type": "markdown",
   "metadata": {},
   "source": [
    "## 1. A Integer (INT)\n",
    "Integer merupakan tipe data angka dengan format (1, 2, 3, dst) dan (-1, -2, -3, dst)"
   ]
  },
  {
   "cell_type": "markdown",
   "metadata": {},
   "source": [
    "### Umum"
   ]
  },
  {
   "cell_type": "code",
   "execution_count": 1,
   "metadata": {},
   "outputs": [],
   "source": [
    "# Tanda \"#\" digunakan untuk menjadikan teks, value, character, variable menjadi note\n",
    "# Dalam penulisan syntax harus memperhatikan kerapian agar dapat mengurut hirarki dari syntax yang dibuat\n",
    "# Perlu juga memperhatikan huruf besar kecil dalam mendefinisikan variable\n",
    "# Perintah Syntax yang muncul terakhir dan menganulir variable yang lebih dahulu dibuat jika dalam bar yang sama\n",
    "# Untuk Desimal diwakili tanda titik \".\" (contoh : 4.3 dibaca empat poin tiga)\n",
    "# Untuk tanda koma biasa \",\" untuk separate variable (contoh : 4, 3, 6 dibaca datanya 4 dan 3 dan 6)"
   ]
  },
  {
   "cell_type": "code",
   "execution_count": 2,
   "metadata": {},
   "outputs": [
    {
     "name": "stdout",
     "output_type": "stream",
     "text": [
      "1000\n"
     ]
    },
    {
     "data": {
      "text/plain": [
       "int"
      ]
     },
     "execution_count": 2,
     "metadata": {},
     "output_type": "execute_result"
    }
   ],
   "source": [
    "print(1000)   # print merupakan fungsi/perintah(fungsi akan diikuti dengan tanda kurung) \n",
    "type(123)     # type juga merupakan fungsi"
   ]
  },
  {
   "cell_type": "markdown",
   "metadata": {},
   "source": [
    "## 1. B Floating-Point (FLOAT)\n",
    "Floating-Point merupakan tipe data angka desimal dengan format (1.5, 2.5, 3.5, dst) dan (-1.5, -2.5, -3.5, dst)"
   ]
  },
  {
   "cell_type": "code",
   "execution_count": 3,
   "metadata": {},
   "outputs": [
    {
     "name": "stdout",
     "output_type": "stream",
     "text": [
      "4.5\n",
      "400.0\n",
      "0.00031\n"
     ]
    },
    {
     "data": {
      "text/plain": [
       "float"
      ]
     },
     "execution_count": 3,
     "metadata": {},
     "output_type": "execute_result"
    }
   ],
   "source": [
    "print(4.5)\n",
    "print(.4e3)   # cara membacanya 4 dikali seratus (e3)\n",
    "print(3.1e-4) # cara membacanya 3.1 dibagi sepuluh ribu (e-4)\n",
    "type(4.5)"
   ]
  },
  {
   "cell_type": "markdown",
   "metadata": {},
   "source": [
    "## 1. C String (STR)\n",
    "String adalah tipe data Python yang berupa sequence of character data (teks) Harus pakai tanda PETIK"
   ]
  },
  {
   "cell_type": "code",
   "execution_count": 4,
   "metadata": {},
   "outputs": [
    {
     "name": "stdout",
     "output_type": "stream",
     "text": [
      "sedang belajar dan atau mengulang pelajaran\n",
      "Pelajaran ini 'MENYENANGKAN'\n"
     ]
    },
    {
     "data": {
      "text/plain": [
       "str"
      ]
     },
     "execution_count": 4,
     "metadata": {},
     "output_type": "execute_result"
    }
   ],
   "source": [
    "print(\"sedang belajar dan atau mengulang pelajaran\")\n",
    "print(\"Pelajaran ini 'MENYENANGKAN'\")\n",
    "type(\"Kata SIAPA\")"
   ]
  },
  {
   "cell_type": "markdown",
   "metadata": {},
   "source": [
    "## 1. D Boolean (BOOL)\n",
    "Boolean adalah tipe data di Python yang berupa True atau False (isinya untuk menentukan benar atau salah saja suatu pernyataan)"
   ]
  },
  {
   "cell_type": "code",
   "execution_count": 5,
   "metadata": {},
   "outputs": [
    {
     "data": {
      "text/plain": [
       "True"
      ]
     },
     "execution_count": 5,
     "metadata": {},
     "output_type": "execute_result"
    }
   ],
   "source": [
    "True"
   ]
  },
  {
   "cell_type": "code",
   "execution_count": 6,
   "metadata": {},
   "outputs": [
    {
     "data": {
      "text/plain": [
       "False"
      ]
     },
     "execution_count": 6,
     "metadata": {},
     "output_type": "execute_result"
    }
   ],
   "source": [
    "False"
   ]
  },
  {
   "cell_type": "code",
   "execution_count": 7,
   "metadata": {},
   "outputs": [
    {
     "data": {
      "text/plain": [
       "bool"
      ]
     },
     "execution_count": 7,
     "metadata": {},
     "output_type": "execute_result"
    }
   ],
   "source": [
    "type(True)"
   ]
  },
  {
   "cell_type": "markdown",
   "metadata": {},
   "source": [
    "# 2 Variable\n",
    "Ada 2 Tajuk untuk Variable :\n",
    "1. Variables Assignment\n",
    "2. Variables Names\n",
    "\n",
    "Semua Variable tidak boleh diawali dengan ANGKA"
   ]
  },
  {
   "cell_type": "markdown",
   "metadata": {},
   "source": [
    "## 2. 1 Variable Assignment\n",
    "Mendefinisikan variable dengan nilai tertentu yang berupa angka"
   ]
  },
  {
   "cell_type": "code",
   "execution_count": 8,
   "metadata": {},
   "outputs": [],
   "source": [
    "N = 100    # N = 100 merupakan variable, N dengan nilai seratus\n",
    "n = 2      # n = 2 merupakan variable, n dengan nilai dua"
   ]
  },
  {
   "cell_type": "code",
   "execution_count": 9,
   "metadata": {},
   "outputs": [
    {
     "name": "stdout",
     "output_type": "stream",
     "text": [
      "200\n",
      "100 2\n"
     ]
    }
   ],
   "source": [
    "print(N * n)\n",
    "print(N, n)"
   ]
  },
  {
   "cell_type": "code",
   "execution_count": 10,
   "metadata": {},
   "outputs": [],
   "source": [
    "# Python juga bisa mendefinisikan beberapa variable dengan nilai yang sama #\n",
    "a = b = c = 25"
   ]
  },
  {
   "cell_type": "code",
   "execution_count": 11,
   "metadata": {},
   "outputs": [
    {
     "name": "stdout",
     "output_type": "stream",
     "text": [
      "25 25 25\n"
     ]
    }
   ],
   "source": [
    "print(a, b, c)"
   ]
  },
  {
   "cell_type": "markdown",
   "metadata": {},
   "source": [
    "## 2. 2 Variable Names\n",
    "Mendefinisikan variable dengan nilai tertentu yang berupa teks/string"
   ]
  },
  {
   "cell_type": "code",
   "execution_count": 12,
   "metadata": {},
   "outputs": [
    {
     "name": "stdout",
     "output_type": "stream",
     "text": [
      "Ega Eldori Poetra\n"
     ]
    },
    {
     "data": {
      "text/plain": [
       "str"
      ]
     },
     "execution_count": 12,
     "metadata": {},
     "output_type": "execute_result"
    }
   ],
   "source": [
    "E = \"Ega\"\n",
    "e = \"Eldori\"\n",
    "p = \"Poetra\"\n",
    "\n",
    "print(E,e,p)\n",
    "type(E)"
   ]
  },
  {
   "cell_type": "code",
   "execution_count": 13,
   "metadata": {},
   "outputs": [
    {
     "name": "stdout",
     "output_type": "stream",
     "text": [
      "10 11 13\n",
      "13 11 10\n"
     ]
    }
   ],
   "source": [
    "# Variable di Python sudah pintar untuk membaca unik variable yang dibuat dan dapat mempedakannya #\n",
    "Age = p = 10\n",
    "aGe = q = 11\n",
    "agE = r = 13\n",
    "\n",
    "print(Age, aGe, agE)\n",
    "print(r, q, p)"
   ]
  },
  {
   "cell_type": "markdown",
   "metadata": {},
   "source": [
    "# 3 Operators\n",
    "Operator digunakan untuk melakukan manipulasi nilai dari suatu perhitungan"
   ]
  },
  {
   "cell_type": "code",
   "execution_count": 14,
   "metadata": {},
   "outputs": [],
   "source": [
    "#### Contoh fungsi operator aritmatika\n",
    "\n",
    "# +   untuk penjumlahan\n",
    "# -   untuk pengurangan\n",
    "# *   bintang untuk perkalian\n",
    "# /   garis miring untuk pembagian\n",
    "# **  bintang 2 kali untuk pangkat dengan nilai pemangkatan ada di kanan\n",
    "# %   Menghasilkan sisa pembagian\n",
    "# //  Pembagian akan menghasilkan nilai bulat, menghapus desimal\n",
    "\n",
    "#### Contoh fungsi operator perbandingan \"AKAN MENGHASILKAN NILAI TRUE OR FALSE (BOOLIAN) \"\n",
    "\n",
    "# <   simbol lebih kecil\n",
    "# >   simbol lebih besar\n",
    "# <=  simbol lebih kecil atau sama dengan\n",
    "# >=  simbol lebih besar atau sama dengan\n",
    "# !   awalan tanda seru pada simbol lain untuk pernyataan TIDAK\n",
    "# !=  artinya tidak sama dengan\n"
   ]
  },
  {
   "cell_type": "code",
   "execution_count": 15,
   "metadata": {},
   "outputs": [
    {
     "name": "stdout",
     "output_type": "stream",
     "text": [
      "4.285714285714286\n",
      "343\n",
      "1\n"
     ]
    }
   ],
   "source": [
    "# ARITMATIKA SEDERHANA #\n",
    "a = 3\n",
    "b = 7\n",
    "c = 10\n",
    "\n",
    "d = a * c / b\n",
    "\n",
    "print(d)\n",
    "print(b**a)\n",
    "print(c % a)\n"
   ]
  },
  {
   "cell_type": "code",
   "execution_count": 16,
   "metadata": {},
   "outputs": [
    {
     "name": "stdout",
     "output_type": "stream",
     "text": [
      "False\n",
      "True\n",
      "True\n"
     ]
    }
   ],
   "source": [
    "# PERBANDINGAN #\n",
    "\n",
    "print(a > b)\n",
    "print((c - b) == a)\n",
    "print(a != b)"
   ]
  },
  {
   "cell_type": "markdown",
   "metadata": {},
   "source": [
    "# 4 String Manipulation\n",
    "Fungsi string juga bisa dibuat aritmatika (+ dan *), rubah huruf besar kecil, mencari penggalan hasinya tetap tipe string"
   ]
  },
  {
   "cell_type": "code",
   "execution_count": 17,
   "metadata": {},
   "outputs": [
    {
     "name": "stdout",
     "output_type": "stream",
     "text": [
      "papaaikotamvan\n",
      "papapapa\n",
      "papa aiko tamvan\n"
     ]
    }
   ],
   "source": [
    "# STRING ARITMATIKA #\n",
    "\n",
    "a = \"papa\"\n",
    "b = \"aiko\"\n",
    "c = \"tamvan\"\n",
    "\n",
    "print(a + b + c)  # Mirip fungsi CONCATENATE di dalam excel\n",
    "print(a * 2)\n",
    "print(a, b , c)\n",
    "\n"
   ]
  },
  {
   "cell_type": "code",
   "execution_count": 18,
   "metadata": {},
   "outputs": [
    {
     "name": "stdout",
     "output_type": "stream",
     "text": [
      "True\n",
      "True\n",
      "False\n"
     ]
    }
   ],
   "source": [
    "# STRING PENGGALAN KATA # Menggunakan fungsi IN outputnya True or False #\n",
    "\n",
    "a = \"Kita\"\n",
    "b = \"Maka\"\n",
    "c = \"Pagi\"\n",
    "\n",
    "print(a in \"Bersama Kita Bisa\")\n",
    "print(b in \"Makan siang bersama\")\n",
    "print(c in \"Tidurlah di Siang hari\")"
   ]
  },
  {
   "cell_type": "code",
   "execution_count": 19,
   "metadata": {},
   "outputs": [
    {
     "name": "stdout",
     "output_type": "stream",
     "text": [
      "Gedebook bikin palalu sakit\n",
      "GEDEBOOK BIKIN PALALU SAKIT\n",
      "gedebook bikin palalu sakit\n",
      "Gedebook Bikin Palalu Sakit\n",
      "GEdEBOOK BIkIN pALALU SAKIt\n"
     ]
    }
   ],
   "source": [
    "# STRING CONVERSION #\n",
    "\n",
    "k = \"geDebook biKin Palalu sakiT\"\n",
    "\n",
    "print(k.capitalize())  # Merubah karakter pertama menjadi huruf BESAR\n",
    "print(k.upper())       # Merubah menjadi huruf BESAR SEMUA\n",
    "print(k.lower())       # Merubah menjadi huruf KECIL SEMUA\n",
    "print(k.title())       # Merubah setiap awal kata menjadi HURUF BESAR\n",
    "print(k.swapcase())    # Memutar balikan fakta"
   ]
  },
  {
   "cell_type": "markdown",
   "metadata": {},
   "source": [
    "# 5 LIST\n",
    "Membuat daftar dengan mengawalinya dengan simbol [  ]"
   ]
  },
  {
   "cell_type": "code",
   "execution_count": 20,
   "metadata": {},
   "outputs": [],
   "source": [
    "m = [\"Manchaster United\", \"Chelsea\", \"Blackburn\", \"Liverpool\"] # MU, Chelsea, dll merupakan Element dari LIST\n",
    "n = [\"Liverpool\", \"Blackburn\", \"Chelsea\", \"Manchaster United\"]\n",
    "o = [\"Barca\", 1.5, \"Real Madrid\", True, \"Villa\"]"
   ]
  },
  {
   "cell_type": "markdown",
   "metadata": {},
   "source": [
    "##### Penting untuk diketahui python list memiliki karakteristik sbb:\n",
    "- Berurutan\n",
    "- Bisa berisi nilai sembarangan\n",
    "- Element dapat diakses menggunakan INDEKS\n",
    "- Dapat dirubah"
   ]
  },
  {
   "cell_type": "code",
   "execution_count": 21,
   "metadata": {},
   "outputs": [
    {
     "data": {
      "text/plain": [
       "False"
      ]
     },
     "execution_count": 21,
     "metadata": {},
     "output_type": "execute_result"
    }
   ],
   "source": [
    "m == n"
   ]
  },
  {
   "cell_type": "markdown",
   "metadata": {},
   "source": [
    "###### FORMULASI INDEKS #\n",
    "\n",
    "- Kalau dari kiri ke kanan kata pertama dimulai dari nol, 123 dst\n",
    "- Kalau dari kanan ke kiri kata pertama dimulai dari minus -1, -234, dst"
   ]
  },
  {
   "cell_type": "code",
   "execution_count": 22,
   "metadata": {},
   "outputs": [
    {
     "name": "stdout",
     "output_type": "stream",
     "text": [
      "Manchaster United\n",
      "True\n",
      "['Barca', 1.5]\n",
      "['Blackburn', 'Chelsea']\n"
     ]
    }
   ],
   "source": [
    "print(m[0])   # Ambil elemen pertama dari variable m\n",
    "print(o[-2])  # Ambil elemen kedua dari sebelah kanan (kata kedua terakhir) variable o\n",
    "print(o[:2])  # Ambil 2 elemen pertama dari kiri\n",
    "print(n[1:3]) # Ambil elemen kedua dari kiri sampai elemen ke tiga"
   ]
  },
  {
   "cell_type": "code",
   "execution_count": 23,
   "metadata": {},
   "outputs": [
    {
     "name": "stdout",
     "output_type": "stream",
     "text": [
      "4\n",
      "4\n",
      "5\n",
      "8\n",
      "['Manchaster United', 'Chelsea', 'Blackburn', 'Liverpool', 'True Legends']\n"
     ]
    }
   ],
   "source": [
    "print(len(m))\n",
    "print(len(n))\n",
    "print(len(o))\n",
    "print(len(m*2))\n",
    "print(m + [\"True Legends\"])"
   ]
  },
  {
   "cell_type": "code",
   "execution_count": 24,
   "metadata": {},
   "outputs": [
    {
     "name": "stdout",
     "output_type": "stream",
     "text": [
      "Blackburn\n",
      "Manchaster United\n"
     ]
    }
   ],
   "source": [
    "print(min(m))  # Mencari Urutan terkecil\n",
    "print(max(n))  # Mencari Urutan terbesar"
   ]
  },
  {
   "cell_type": "markdown",
   "metadata": {},
   "source": [
    "# 6 Modifying List Value"
   ]
  },
  {
   "cell_type": "markdown",
   "metadata": {},
   "source": [
    "## 6.1 Modifying Single List\n",
    "A single value in a list can be replaced by indexing and simple assignment:"
   ]
  },
  {
   "cell_type": "code",
   "execution_count": 25,
   "metadata": {},
   "outputs": [
    {
     "name": "stdout",
     "output_type": "stream",
     "text": [
      "['Manchaster United', 'Chelsea', 'Blackburn', 'Liverpool']\n",
      "['Liverpool', 'Blackburn', 'Chelsea', 'Manchaster United']\n",
      "['Barca', 1.5, 'Real Madrid', True, 'Villa']\n"
     ]
    }
   ],
   "source": [
    "print(m)\n",
    "print(n)\n",
    "print(o)"
   ]
  },
  {
   "cell_type": "code",
   "execution_count": 26,
   "metadata": {},
   "outputs": [
    {
     "name": "stdout",
     "output_type": "stream",
     "text": [
      "['Manchaster United', 'Manchaster City', 'Blackburn', 'Liverpool']\n"
     ]
    }
   ],
   "source": [
    "m[1] = \"Manchaster City\"\n",
    "print(m)"
   ]
  },
  {
   "cell_type": "code",
   "execution_count": 27,
   "metadata": {},
   "outputs": [
    {
     "name": "stdout",
     "output_type": "stream",
     "text": [
      "['Liverpool', 'Blackburn', 'Chelsea']\n"
     ]
    }
   ],
   "source": [
    "del n[-1]\n",
    "print(n)"
   ]
  },
  {
   "cell_type": "markdown",
   "metadata": {},
   "source": [
    "## 6.2 Modifying Multiple List\n",
    "What if you want to change several contiguous elements in a list at one time? Python allows this with slice assignment, which has the following syntax"
   ]
  },
  {
   "cell_type": "code",
   "execution_count": 28,
   "metadata": {},
   "outputs": [
    {
     "name": "stdout",
     "output_type": "stream",
     "text": [
      "['Aston', 'Arsenal', 'PSMS', 'Blackburn', 'Liverpool']\n"
     ]
    }
   ],
   "source": [
    "m[:2] = [\"Aston\", \"Arsenal\", \"PSMS\"]\n",
    "print(m)\n",
    "\n",
    "# Pakai INDEKS SLICE untuk memodifikasi banyak elemen sekaligus #"
   ]
  },
  {
   "cell_type": "markdown",
   "metadata": {},
   "source": [
    "# 7 Dictonary\n",
    "Membuat dan mengakses dictonary/kamus/master data setiap elemen, value, variable"
   ]
  },
  {
   "cell_type": "code",
   "execution_count": 29,
   "metadata": {},
   "outputs": [],
   "source": [
    "identitas = {                   \n",
    "    \"First Name\" : \"Ega\",\n",
    "    \"Last Name\"  : \"Eldori\",\n",
    "    \"Age\"        : 30,\n",
    "    \"Chilren\"    : 2\n",
    "}\n",
    "\n",
    "# Data di atas dapat diartikan variable identitas adalah kumpulan dari beberapa value yang mana masing\" value \n",
    "# memiliki elemen. Value \"First Name\" - Elemennya \"Ega\".. Antar value dipisahkan dengan tanda koma (, separate)"
   ]
  },
  {
   "cell_type": "code",
   "execution_count": 30,
   "metadata": {},
   "outputs": [
    {
     "data": {
      "text/plain": [
       "{'First Name': 'Ega', 'Last Name': 'Eldori', 'Age': 30, 'Chilren': 2}"
      ]
     },
     "execution_count": 30,
     "metadata": {},
     "output_type": "execute_result"
    }
   ],
   "source": [
    "identitas"
   ]
  },
  {
   "cell_type": "code",
   "execution_count": 31,
   "metadata": {},
   "outputs": [
    {
     "name": "stdout",
     "output_type": "stream",
     "text": [
      "Ega\n"
     ]
    }
   ],
   "source": [
    "print(identitas[\"First Name\"])"
   ]
  },
  {
   "cell_type": "code",
   "execution_count": 32,
   "metadata": {},
   "outputs": [],
   "source": [
    "del(identitas[\"Age\"])"
   ]
  },
  {
   "cell_type": "code",
   "execution_count": 33,
   "metadata": {},
   "outputs": [
    {
     "data": {
      "text/plain": [
       "{'First Name': 'Ega', 'Last Name': 'Eldori', 'Chilren': 2}"
      ]
     },
     "execution_count": 33,
     "metadata": {},
     "output_type": "execute_result"
    }
   ],
   "source": [
    "identitas"
   ]
  },
  {
   "cell_type": "markdown",
   "metadata": {},
   "source": [
    "#### Bertingkat"
   ]
  },
  {
   "cell_type": "code",
   "execution_count": 34,
   "metadata": {},
   "outputs": [],
   "source": [
    "SSW_1 = {}  # tidak langsung di isi, jadi cuma nyiapkan template saja\n",
    "type(SSW_1)\n",
    "\n",
    "SSW_1[\"Bos\"]   = \"Hendra Utama\"\n",
    "SSW_1[\"TCP\"]   = [\"Yudi\", \"Muslim\", \"Mandor\", [\"Bang Iwan\", \" Pak Asli\"]] # List bertingkat\n",
    "SSW_1[\"Staff\"] = {\"SMO\" : \"Ega\", \"SMT\" : \"Anang\", \"SSW\" : \"Walter\" } # Element dalam Element\n",
    "\n",
    "# Bedanya disini pakai simbol sama dengan, Karena sedang tidak berada dalam kurungan []{}"
   ]
  },
  {
   "cell_type": "code",
   "execution_count": 35,
   "metadata": {},
   "outputs": [
    {
     "name": "stdout",
     "output_type": "stream",
     "text": [
      "{'SMO': 'Ega', 'SMT': 'Anang', 'SSW': 'Walter'}\n",
      "Ega\n",
      "Ega Muslim\n",
      " Pak Asli\n"
     ]
    }
   ],
   "source": [
    "print(SSW_1[\"Staff\"])\n",
    "print(SSW_1[\"Staff\"][\"SMO\"]) # Kalau mau manggil Elemen yang dalam elemen pakai dua kali [][]\n",
    "print(SSW_1[\"Staff\"][\"SMO\"], SSW_1[\"TCP\"][1])\n",
    "print(SSW_1[\"TCP\"][3][1]) # Perintahnya tampilkan Value TCP Indeks ke 3, lalu cari  indeks 1 dari situ\n",
    "\n",
    "# Kalau mau dirubah, update, nambah, hapus sama kaya cara di atas #"
   ]
  },
  {
   "cell_type": "code",
   "execution_count": 36,
   "metadata": {},
   "outputs": [
    {
     "name": "stdout",
     "output_type": "stream",
     "text": [
      "dict_items([('Bos', 'Hendra Utama'), ('TCP', ['Yudi', 'Muslim', 'Mandor', ['Bang Iwan', ' Pak Asli']]), ('Staff', {'SMO': 'Ega', 'SMT': 'Anang', 'SSW': 'Walter'})])\n",
      "dict_values(['Hendra Utama', ['Yudi', 'Muslim', 'Mandor', ['Bang Iwan', ' Pak Asli']], {'SMO': 'Ega', 'SMT': 'Anang', 'SSW': 'Walter'}])\n",
      "dict_keys(['Bos', 'TCP', 'Staff'])\n"
     ]
    }
   ],
   "source": [
    "# Built-in Methods # Kimpulan menurut BETA #\n",
    "# f = {a = 10, b = 20, c = 30} --> disini f merupakan variable, a merupakan value, 10 merupakan element #\n",
    "# Mendifinisikan Variable yang memiliki beberapa value harus pakai Kurung Kurawal {}\n",
    "\n",
    "# Kalau menurut Python kek gini #\n",
    "\n",
    "print(SSW_1.items())\n",
    "print(SSW_1.values())\n",
    "print(SSW_1.keys())"
   ]
  },
  {
   "cell_type": "code",
   "execution_count": null,
   "metadata": {},
   "outputs": [],
   "source": []
  }
 ],
 "metadata": {
  "kernelspec": {
   "display_name": "Python 3",
   "language": "python",
   "name": "python3"
  },
  "language_info": {
   "codemirror_mode": {
    "name": "ipython",
    "version": 3
   },
   "file_extension": ".py",
   "mimetype": "text/x-python",
   "name": "python",
   "nbconvert_exporter": "python",
   "pygments_lexer": "ipython3",
   "version": "3.7.6"
  }
 },
 "nbformat": 4,
 "nbformat_minor": 4
}
